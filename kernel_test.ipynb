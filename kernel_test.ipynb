{
 "cells": [
  {
   "cell_type": "code",
   "execution_count": 4,
   "metadata": {},
   "outputs": [],
   "source": [
    "import numpy as np\n",
    "import pandas as pd\n",
    "import kernel_descriptors as kd\n",
    "import paint_auth as pa\n",
    "import cv2\n",
    "import matplotlib.pyplot as plt\n",
    "\n",
    "\"\"\"\n",
    "Tests for kernel mapping approximation\n",
    "\"\"\"\n",
    "dimension = 500\n",
    "z = np.random.rand(dimension)\n",
    "d = np.random.rand(1000,dimension)\n",
    "\n",
    "norm = np.linalg.norm(d, axis=1)\n",
    "for i in range(len(d)):\n",
    "    d[i] = d[i] / norm[i]\n",
    "    \n",
    "truth = np.array([kd.gaussian_kernel(d[i],z) for i in range(len(d))])"
   ]
  },
  {
   "cell_type": "code",
   "execution_count": 5,
   "metadata": {
    "collapsed": true
   },
   "outputs": [],
   "source": [
    "## D <= d test\n",
    "dim = [10,50,100]\n",
    "error = []\n",
    "for D in dim:\n",
    "    estimate = []\n",
    "    for i in range(len(d)):\n",
    "        estimate.append(np.matmul(kd.rbf_map(d[i], D), kd.rbf_map(d[i], D)))\n",
    "    estimate = np.array(estimate)\n",
    "    error.append(np.square((truth-estimate)).mean())"
   ]
  },
  {
   "cell_type": "code",
   "execution_count": 6,
   "metadata": {
    "collapsed": true
   },
   "outputs": [],
   "source": [
    "#D > d test\n",
    "ratio = 6\n",
    "for i in range(1,ratio):\n",
    "    estimate = []\n",
    "    D = dimension * (i + 1)\n",
    "    for i in range(len(d)):\n",
    "        estimate.append(np.matmul(kd.rbf_map(d[i], D), kd.rbf_map(d[i], D)))\n",
    "    estimate = np.array(estimate)\n",
    "    error.append(np.square((truth-estimate)).mean())"
   ]
  },
  {
   "cell_type": "code",
   "execution_count": 7,
   "metadata": {},
   "outputs": [
    {
     "data": {
      "image/png": "[encoded data removed]",
      "text/plain": [
       "<Figure size 432x288 with 1 Axes>"
      ]
     },
     "metadata": {},
     "output_type": "display_data"
    }
   ],
   "source": [
    "x = [10,50,100,500,1000,1500,2000,2500]\n",
    "plt.plot(x,error)\n",
    "plt.title('RBF-Kernel Approx. with Random Orth. Matrix')\n",
    "plt.xlabel(\"Di\")\n",
    "plt.show()"
   ]
  },
  {
   "cell_type": "code",
   "execution_count": null,
   "metadata": {
    "collapsed": true
   },
   "outputs": [],
   "source": []
  }
 ],
 "metadata": {
  "kernelspec": {
   "display_name": "Python 2",
   "language": "python",
   "name": "python2"
  },
  "language_info": {
   "codemirror_mode": {
    "name": "ipython",
    "version": 2
   },
   "file_extension": ".py",
   "mimetype": "text/x-python",
   "name": "python",
   "nbconvert_exporter": "python",
   "pygments_lexer": "ipython2",
   "version": "2.7.10"
  }
 },
 "nbformat": 4,
 "nbformat_minor": 2
}
